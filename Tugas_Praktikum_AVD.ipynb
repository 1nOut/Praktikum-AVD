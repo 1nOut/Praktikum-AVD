{
  "nbformat": 4,
  "nbformat_minor": 0,
  "metadata": {
    "colab": {
      "provenance": []
    },
    "kernelspec": {
      "name": "python3",
      "display_name": "Python 3"
    },
    "language_info": {
      "name": "python"
    }
  },
  "cells": [
    {
      "cell_type": "markdown",
      "source": [
        "#Business Understanding"
      ],
      "metadata": {
        "id": "GkkDbky_ko9x"
      }
    },
    {
      "cell_type": "markdown",
      "source": [
        "# **Business Objective**\n"
      ],
      "metadata": {
        "id": "xsfhxneLhDJZ"
      }
    },
    {
      "cell_type": "markdown",
      "source": [
        "Tujuan utama proyek analisis ini adalah untuk mengetahui kehidupan sosial dan ekonomi masyarakat Indonesia pada tahun 2021. Hal ini meliputi wilayah apa yang memiliki persentase kemiskinan paling tinggi atau sebaliknya, angka harapan hidup dari setiap wilayah, dan hal-hal lainnya yang berhubungan dengan kehidupan sosial dan ekonomi masyrakat Indonesia. Selain itu, juga untuk mengetahui seberapa besar dampak pendidikan untuk perekenomian di Indonesia."
      ],
      "metadata": {
        "id": "Cqsp6xAdhOyH"
      }
    },
    {
      "cell_type": "markdown",
      "source": [
        "# **Assess Situation**"
      ],
      "metadata": {
        "id": "P38D_LZAkBbp"
      }
    },
    {
      "cell_type": "markdown",
      "source": [
        "Situasi yang mendasari analisis ini untuk melihat apakah arah ekonomi dan sosial di Indonesia sudah benar atau tidak. Masih terdapat beberapa ketimpangan ekonomi yang terjadi di masa sekarang. Wilayah yang seharusnya mendapat perhatian lebih justru diabaikan."
      ],
      "metadata": {
        "id": "zX3Re-05kMLA"
      }
    },
    {
      "cell_type": "markdown",
      "source": [
        "# Data Mining Goals"
      ],
      "metadata": {
        "id": "DAIJl-Ltn69t"
      }
    },
    {
      "cell_type": "markdown",
      "source": [
        "  Mengidentifikasi wilayah yang harus ditingkatkan lagi kehidupan ekonomi dan sosialnya, mengidentifikasi faktor yang mempengaruhi kemiskinan, serta eneliti dampak pendidikan terhadap kondisi sosial-ekonomi di Indonesiam pada tahun 2021.\n"
      ],
      "metadata": {
        "id": "wg51mR3wn-9d"
      }
    }
  ]
}